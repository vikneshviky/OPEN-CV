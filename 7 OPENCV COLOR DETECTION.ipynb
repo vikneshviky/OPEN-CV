{
 "cells": [
  {
   "cell_type": "code",
   "execution_count": 1,
   "id": "67b958fb",
   "metadata": {},
   "outputs": [],
   "source": [
    "import cv2 as cv\n",
    "import numpy as np"
   ]
  },
  {
   "cell_type": "code",
   "execution_count": null,
   "id": "b8f292f1",
   "metadata": {},
   "outputs": [
    {
     "name": "stdout",
     "output_type": "stream",
     "text": [
      "0 0 67 226 35 255\n"
     ]
    }
   ],
   "source": [
    "#1\n",
    "img = cv.imread('photos/corv.webp')\n",
    "\n",
    "#4a\n",
    "def empty(a):\n",
    "    pass\n",
    "\n",
    "#10\n",
    "#from git hub to join all the images\n",
    "def stackImages(scale,imgArray):\n",
    "    rows = len(imgArray)\n",
    "    cols = len(imgArray[0])\n",
    "    rowsAvailable = isinstance(imgArray[0], list)\n",
    "    width = imgArray[0][0].shape[1]\n",
    "    height = imgArray[0][0].shape[0]\n",
    "    if rowsAvailable:\n",
    "        for x in range ( 0, rows):\n",
    "            for y in range(0, cols):\n",
    "                if imgArray[x][y].shape[:2] == imgArray[0][0].shape [:2]:\n",
    "                    imgArray[x][y] = cv.resize(imgArray[x][y], (0, 0), None, scale, scale)\n",
    "                else:\n",
    "                    imgArray[x][y] = cv.resize(imgArray[x][y], (imgArray[0][0].shape[1], imgArray[0][0].shape[0]), None, scale, scale)\n",
    "                if len(imgArray[x][y].shape) == 2: imgArray[x][y]= cv.cvtColor( imgArray[x][y], cv.COLOR_GRAY2BGR)\n",
    "        imageBlank = np.zeros((height, width, 3), np.uint8)\n",
    "        hor = [imageBlank]*rows\n",
    "        hor_con = [imageBlank]*rows\n",
    "        for x in range(0, rows):\n",
    "            hor[x] = np.hstack(imgArray[x])\n",
    "        ver = np.vstack(hor)\n",
    "    else:\n",
    "        for x in range(0, rows):\n",
    "            if imgArray[x].shape[:2] == imgArray[0].shape[:2]:\n",
    "                imgArray[x] = cv.resize(imgArray[x], (0, 0), None, scale, scale)\n",
    "            else:\n",
    "                imgArray[x] = cv.resize(imgArray[x], (imgArray[0].shape[1], imgArray[0].shape[0]), None,scale, scale)\n",
    "            if len(imgArray[x].shape) == 2: imgArray[x] = cv.cvtColor(imgArray[x], cv.COLOR_GRAY2BGR)\n",
    "        hor= np.hstack(imgArray)\n",
    "        ver = hor\n",
    "    return ver\n",
    "\n",
    "#3\n",
    "#create track bars to manage HSV\n",
    "cv.namedWindow('Track Bar')\n",
    "cv.resizeWindow('Track Bar',640,240)#640,240 is size of track bar\n",
    "\n",
    "#4\n",
    "# #define what value we gona change using track bar\n",
    "# cv.createTrackbar(\"Hue min\",\"Track Bar\",0,179,empty)\n",
    "# cv.createTrackbar(\"Hue max\",\"Track Bar\",179,179,empty)\n",
    "# #0-initial value while run\n",
    "# #max hue is 360, but cv2 has only 179\n",
    "# #empty- call a function which will run everytime something changesin the track bar,here we will do in another way\n",
    "# cv.createTrackbar(\"Sat min\",\"Track Bar\",0,255,empty)\n",
    "# cv.createTrackbar(\"Sat max\",\"Track Bar\",255,255,empty)\n",
    "# cv.createTrackbar(\"Value min\",\"Track Bar\",0,255,empty)\n",
    "# cv.createTrackbar(\"Value max\",\"Track Bar\",255,255,empty)\n",
    "\n",
    "#8\n",
    "#get the values from track bar output and use it here\n",
    "#we dont want black. need only white. \n",
    "cv.createTrackbar(\"Hue min\",\"Track Bar\",0,179,empty)\n",
    "cv.createTrackbar(\"Hue max\",\"Track Bar\",21,179,empty)\n",
    "cv.createTrackbar(\"Sat min\",\"Track Bar\",67,255,empty)\n",
    "cv.createTrackbar(\"Sat max\",\"Track Bar\",226,255,empty)\n",
    "cv.createTrackbar(\"Value min\",\"Track Bar\",35,255,empty)\n",
    "cv.createTrackbar(\"Value max\",\"Track Bar\",255,255,empty)\n",
    "\n",
    "\n",
    "#6 use while loop, couz we have to run it again and again\n",
    "while True:\n",
    "    #2\n",
    "    #convert image to hsv\n",
    "    hsv_img = cv.cvtColor(img,cv.COLOR_BGR2HSV)\n",
    "\n",
    "    #5\n",
    "    #Read the trackbar to apply on image\n",
    "    h_min = cv.getTrackbarPos(\"Hue min\",\"Track Bar\")\n",
    "    h_max = cv.getTrackbarPos(\"Hue max\",\"Track Bar\")\n",
    "    s_min = cv.getTrackbarPos(\"Sat min\",\"Track Bar\")\n",
    "    s_max = cv.getTrackbarPos(\"Sat max\",\"Track Bar\")\n",
    "    v_min = cv.getTrackbarPos(\"Value min\",\"Track Bar\")\n",
    "    v_max = cv.getTrackbarPos(\"Value max\",\"Track Bar\")\n",
    "    print(h_min,h_min,s_min,s_max,v_min,v_max)\n",
    "    \n",
    "    #7\n",
    "    #create a mask to filter that image of that color\n",
    "    lower = np.array([h_min,s_min,v_min])\n",
    "    upper = np.array([h_max,s_max,v_max])\n",
    "    mask = cv.inRange(hsv_img,lower,upper)\n",
    "    \n",
    "    #9\n",
    "    img_result = cv.bitwise_and(img,img,mask=mask)\n",
    "\n",
    "\n",
    "#     cv.imshow(\"car\",img)\n",
    "#     cv.imshow('HSV IMAGE',hsv_img)\n",
    "#     cv.imshow('Mask IMAGE',mask)\n",
    "#     cv.imshow('Result IMAGE',img_result)\n",
    "    \n",
    "    #10a\n",
    "    img_stack = stackImages(0.6,([img,hsv_img],[mask,img_result]))\n",
    "    cv.imshow(\"Stack Image\",img_stack)\n",
    "    \n",
    "    cv.waitKey(0)"
   ]
  },
  {
   "cell_type": "code",
   "execution_count": null,
   "id": "96bb5475",
   "metadata": {},
   "outputs": [],
   "source": []
  }
 ],
 "metadata": {
  "kernelspec": {
   "display_name": "Python 3 (ipykernel)",
   "language": "python",
   "name": "python3"
  },
  "language_info": {
   "codemirror_mode": {
    "name": "ipython",
    "version": 3
   },
   "file_extension": ".py",
   "mimetype": "text/x-python",
   "name": "python",
   "nbconvert_exporter": "python",
   "pygments_lexer": "ipython3",
   "version": "3.9.12"
  },
  "varInspector": {
   "cols": {
    "lenName": 16,
    "lenType": 16,
    "lenVar": 40
   },
   "kernels_config": {
    "python": {
     "delete_cmd_postfix": "",
     "delete_cmd_prefix": "del ",
     "library": "var_list.py",
     "varRefreshCmd": "print(var_dic_list())"
    },
    "r": {
     "delete_cmd_postfix": ") ",
     "delete_cmd_prefix": "rm(",
     "library": "var_list.r",
     "varRefreshCmd": "cat(var_dic_list()) "
    }
   },
   "types_to_exclude": [
    "module",
    "function",
    "builtin_function_or_method",
    "instance",
    "_Feature"
   ],
   "window_display": false
  }
 },
 "nbformat": 4,
 "nbformat_minor": 5
}
