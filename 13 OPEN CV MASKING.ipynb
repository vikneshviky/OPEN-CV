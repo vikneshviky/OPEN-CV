{
 "cells": [
  {
   "cell_type": "code",
   "execution_count": 1,
   "id": "cef8f16a",
   "metadata": {},
   "outputs": [],
   "source": [
    "import cv2 as cv\n",
    "import numpy as np"
   ]
  },
  {
   "cell_type": "code",
   "execution_count": 2,
   "id": "fb06d61a",
   "metadata": {},
   "outputs": [
    {
     "data": {
      "text/plain": [
       "-1"
      ]
     },
     "execution_count": 2,
     "metadata": {},
     "output_type": "execute_result"
    }
   ],
   "source": [
    "#masking help to focus on certain part of the image. eg: focus on the face of people\n",
    "path = 'photos/people.jpg'\n",
    "img = cv.imread(path)\n",
    "\n",
    "cv.imshow('people',img)\n",
    "cv.waitKey(0)"
   ]
  },
  {
   "cell_type": "code",
   "execution_count": 3,
   "id": "68e76922",
   "metadata": {},
   "outputs": [
    {
     "data": {
      "text/plain": [
       "(339, 509, 3)"
      ]
     },
     "execution_count": 3,
     "metadata": {},
     "output_type": "execute_result"
    }
   ],
   "source": [
    "#get the pixel size\n",
    "np.shape(img)"
   ]
  },
  {
   "cell_type": "code",
   "execution_count": 112,
   "id": "cbaa3985",
   "metadata": {},
   "outputs": [],
   "source": [
    "#use the pixel size here\n",
    "blank = np.zeros([339,509],dtype='uint8')"
   ]
  },
  {
   "cell_type": "code",
   "execution_count": 113,
   "id": "602aca69",
   "metadata": {},
   "outputs": [],
   "source": [
    "#make a rectangle on the area which we want to mask\n",
    "mask_rectanlge = cv.rectangle(blank,(275,110),(315,170),(255,255,255),-1)#go to paint and get the x and y values"
   ]
  },
  {
   "cell_type": "code",
   "execution_count": 114,
   "id": "953fd419",
   "metadata": {},
   "outputs": [
    {
     "data": {
      "text/plain": [
       "<function destroyAllWindows>"
      ]
     },
     "execution_count": 114,
     "metadata": {},
     "output_type": "execute_result"
    }
   ],
   "source": [
    "cv.imshow('rectangle',img_rectanlge)\n",
    "cv.waitKey(0)\n",
    "cv.destroyAllWindows"
   ]
  },
  {
   "cell_type": "code",
   "execution_count": 115,
   "id": "c7959f32",
   "metadata": {},
   "outputs": [],
   "source": [
    "#mask using bitwise\n",
    "mask = cv.bitwise_and(img,img,mask = mask_rectanlge)"
   ]
  },
  {
   "cell_type": "code",
   "execution_count": 116,
   "id": "5f910e06",
   "metadata": {},
   "outputs": [
    {
     "data": {
      "text/plain": [
       "<function destroyAllWindows>"
      ]
     },
     "execution_count": 116,
     "metadata": {},
     "output_type": "execute_result"
    }
   ],
   "source": [
    "cv.imshow('mask',mask)\n",
    "cv.waitKey(0)\n",
    "cv.destroyAllWindows"
   ]
  },
  {
   "cell_type": "code",
   "execution_count": null,
   "id": "1875fd2b",
   "metadata": {},
   "outputs": [],
   "source": []
  }
 ],
 "metadata": {
  "kernelspec": {
   "display_name": "Python 3 (ipykernel)",
   "language": "python",
   "name": "python3"
  },
  "language_info": {
   "codemirror_mode": {
    "name": "ipython",
    "version": 3
   },
   "file_extension": ".py",
   "mimetype": "text/x-python",
   "name": "python",
   "nbconvert_exporter": "python",
   "pygments_lexer": "ipython3",
   "version": "3.9.12"
  },
  "varInspector": {
   "cols": {
    "lenName": 16,
    "lenType": 16,
    "lenVar": 40
   },
   "kernels_config": {
    "python": {
     "delete_cmd_postfix": "",
     "delete_cmd_prefix": "del ",
     "library": "var_list.py",
     "varRefreshCmd": "print(var_dic_list())"
    },
    "r": {
     "delete_cmd_postfix": ") ",
     "delete_cmd_prefix": "rm(",
     "library": "var_list.r",
     "varRefreshCmd": "cat(var_dic_list()) "
    }
   },
   "types_to_exclude": [
    "module",
    "function",
    "builtin_function_or_method",
    "instance",
    "_Feature"
   ],
   "window_display": false
  }
 },
 "nbformat": 4,
 "nbformat_minor": 5
}
