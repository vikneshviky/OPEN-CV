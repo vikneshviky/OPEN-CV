{
 "cells": [
  {
   "cell_type": "code",
   "execution_count": 6,
   "id": "39af563f",
   "metadata": {},
   "outputs": [],
   "source": [
    "import cv2 as cv\n",
    "import numpy as np"
   ]
  },
  {
   "cell_type": "code",
   "execution_count": 7,
   "id": "83275608",
   "metadata": {},
   "outputs": [
    {
     "data": {
      "text/plain": [
       "-1"
      ]
     },
     "execution_count": 7,
     "metadata": {},
     "output_type": "execute_result"
    }
   ],
   "source": [
    "blank = np.zeros((400,400), dtype = 'uint8')\n",
    "\n",
    "rectangle = cv.rectangle(blank.copy(),(30,30),(370,370),255,-1)#30 -starting point,370-ending point, 255-white,-1-fill image\n",
    "circle = cv.circle(blank.copy(),(200,200),200,255,-1)#200-centre,200-radius,255-white color,-1-fill image\n",
    "\n",
    "#bitwise AND--->intersecting regions\n",
    "bitwise_AND = cv.bitwise_and(rectangle,circle)\n",
    " \n",
    "#bitwise OR--->non intersecting and intersecting regions\n",
    "bitwise_OR = cv.bitwise_or(rectangle,circle)\n",
    "\n",
    "#bitwise xor--->non intersecting regions\n",
    "bitwise_XOR = cv.bitwise_xor(rectangle,circle)\n",
    "\n",
    "#bitwise not--->\n",
    "bitwise_NOT =cv.bitwise_not(rectangle)\n",
    "\n",
    "cv.imshow('circle',circle)\n",
    "cv.imshow('rectangle',rectangle)\n",
    "cv.imshow('bitwise', bitwise_AND)\n",
    "cv.imshow('bitwise or', bitwise_OR)\n",
    "cv.imshow('bitwise xor', bitwise_XOR)\n",
    "cv.imshow('bitwise not',bitwise_NOT)\n",
    "\n",
    "cv.waitKey(0)"
   ]
  },
  {
   "cell_type": "code",
   "execution_count": null,
   "id": "8487c663",
   "metadata": {},
   "outputs": [],
   "source": []
  }
 ],
 "metadata": {
  "kernelspec": {
   "display_name": "Python 3 (ipykernel)",
   "language": "python",
   "name": "python3"
  },
  "language_info": {
   "codemirror_mode": {
    "name": "ipython",
    "version": 3
   },
   "file_extension": ".py",
   "mimetype": "text/x-python",
   "name": "python",
   "nbconvert_exporter": "python",
   "pygments_lexer": "ipython3",
   "version": "3.9.12"
  },
  "varInspector": {
   "cols": {
    "lenName": 16,
    "lenType": 16,
    "lenVar": 40
   },
   "kernels_config": {
    "python": {
     "delete_cmd_postfix": "",
     "delete_cmd_prefix": "del ",
     "library": "var_list.py",
     "varRefreshCmd": "print(var_dic_list())"
    },
    "r": {
     "delete_cmd_postfix": ") ",
     "delete_cmd_prefix": "rm(",
     "library": "var_list.r",
     "varRefreshCmd": "cat(var_dic_list()) "
    }
   },
   "types_to_exclude": [
    "module",
    "function",
    "builtin_function_or_method",
    "instance",
    "_Feature"
   ],
   "window_display": false
  }
 },
 "nbformat": 4,
 "nbformat_minor": 5
}
