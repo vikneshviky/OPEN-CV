{
 "cells": [
  {
   "cell_type": "code",
   "execution_count": 1,
   "id": "a4f300b3",
   "metadata": {},
   "outputs": [],
   "source": [
    "import cv2 as cv\n",
    "import numpy as np"
   ]
  },
  {
   "cell_type": "code",
   "execution_count": 15,
   "id": "0cb00430",
   "metadata": {},
   "outputs": [
    {
     "data": {
      "text/plain": [
       "-1"
      ]
     },
     "execution_count": 15,
     "metadata": {},
     "output_type": "execute_result"
    }
   ],
   "source": [
    "img = np.zeros((512,512,3),np.uint8) #zeros means black/512 means grey scale/ 3 to add color \n",
    "# print(img.shape)\n",
    "# img[:]=255,0,0 #blue background\n",
    "# cv.line(img,(0,0),(300,300),(0,255,0),3)\n",
    "cv.line(img,(0,0),(img.shape[1],img.shape[0]),(0,255,0),3)\n",
    "# cv.rectangle(img,(img.shape[1]//2,img.shape[0]//2),(0,255,0),3)\n",
    "#(0,0)-starting and ending point of line,\n",
    "# img.shape[]-width and height\n",
    "#0,255,0-green color\n",
    "#3 -  thickness\n",
    "\n",
    "cv.rectangle(img,(0,0),(250,350),(0,0,255),cv.FILLED)\n",
    "# cv.rectangle(img,(img.shape[1]//2,img.shape[0]//2),(0,0,255),1)\n",
    "#(250,250)- corner or diagonal point\n",
    "\n",
    "cv.circle(img,(400,50),30,(255,255,0),5)\n",
    "# cv.rectangle(img,(img.shape[1]//2,img.shape[0]//2),30,(0,255,0),5)\n",
    "#(400,50)-plot the circle\n",
    "#30-radius\n",
    "\n",
    "cv.putText(img,'OPENCV',(250,200),cv.FONT_HERSHEY_COMPLEX,1,(0,150,0),1)\n",
    "#(250,200)-plot the cicle\n",
    "#1-size of the fond\n",
    "\n",
    "cv.imshow('image',img)\n",
    "\n",
    "cv.waitKey(0)\n"
   ]
  },
  {
   "cell_type": "code",
   "execution_count": null,
   "id": "cb523c9f",
   "metadata": {},
   "outputs": [],
   "source": []
  }
 ],
 "metadata": {
  "kernelspec": {
   "display_name": "Python 3 (ipykernel)",
   "language": "python",
   "name": "python3"
  },
  "language_info": {
   "codemirror_mode": {
    "name": "ipython",
    "version": 3
   },
   "file_extension": ".py",
   "mimetype": "text/x-python",
   "name": "python",
   "nbconvert_exporter": "python",
   "pygments_lexer": "ipython3",
   "version": "3.9.12"
  },
  "varInspector": {
   "cols": {
    "lenName": 16,
    "lenType": 16,
    "lenVar": 40
   },
   "kernels_config": {
    "python": {
     "delete_cmd_postfix": "",
     "delete_cmd_prefix": "del ",
     "library": "var_list.py",
     "varRefreshCmd": "print(var_dic_list())"
    },
    "r": {
     "delete_cmd_postfix": ") ",
     "delete_cmd_prefix": "rm(",
     "library": "var_list.r",
     "varRefreshCmd": "cat(var_dic_list()) "
    }
   },
   "types_to_exclude": [
    "module",
    "function",
    "builtin_function_or_method",
    "instance",
    "_Feature"
   ],
   "window_display": false
  }
 },
 "nbformat": 4,
 "nbformat_minor": 5
}
