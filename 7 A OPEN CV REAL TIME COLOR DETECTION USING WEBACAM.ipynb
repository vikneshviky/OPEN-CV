{
 "cells": [
  {
   "cell_type": "code",
   "execution_count": null,
   "id": "8e30efee",
   "metadata": {},
   "outputs": [],
   "source": [
    "import cv2 \n",
    "import numpy as np"
   ]
  },
  {
   "cell_type": "code",
   "execution_count": null,
   "id": "b5e186a1",
   "metadata": {},
   "outputs": [],
   "source": [
    "#1\n",
    "#webcam config\n",
    "frameWidth = 640\n",
    "frameHeight = 480\n",
    "cap = cv2.VideoCapture(0)\n",
    "cap.set(3, frameWidth)\n",
    "cap.set(4, frameHeight)\n",
    "\n",
    "def empty(a):\n",
    "    pass\n",
    "\n",
    "#2\n",
    "#Create trackbar to manage hsv\n",
    "cv2.namedWindow(\"HSV\")\n",
    "cv2.resizeWindow(\"HSV\",640,240)\n",
    "cv2.createTrackbar(\"HUE Min\",\"HSV\",0,179,empty)\n",
    "cv2.createTrackbar(\"HUE Max\",\"HSV\",179,179,empty)\n",
    "cv2.createTrackbar(\"SAT Min\",\"HSV\",0,255,empty)\n",
    "cv2.createTrackbar(\"SAT Max\",\"HSV\",255,255,empty)\n",
    "cv2.createTrackbar(\"VALUE Min\",\"HSV\",0,255,empty)\n",
    "cv2.createTrackbar(\"VALUE Max\",\"HSV\",255,255,empty)\n",
    "\n",
    "while True:\n",
    "\n",
    "    _, img = cap.read()\n",
    "    imgHsv = cv2.cvtColor(img,cv2.COLOR_BGR2HSV)\n",
    "\n",
    "    h_min = cv2.getTrackbarPos(\"HUE Min\",\"HSV\")\n",
    "    h_max = cv2.getTrackbarPos(\"HUE Max\", \"HSV\")\n",
    "    s_min = cv2.getTrackbarPos(\"SAT Min\", \"HSV\")\n",
    "    s_max = cv2.getTrackbarPos(\"SAT Max\", \"HSV\")\n",
    "    v_min = cv2.getTrackbarPos(\"VALUE Min\", \"HSV\")\n",
    "    v_max = cv2.getTrackbarPos(\"VALUE Max\", \"HSV\")\n",
    "    print(h_min)\n",
    "\n",
    "    lower = np.array([h_min,s_min,v_min])\n",
    "    upper = np.array([h_max,s_max,v_max])\n",
    "    mask = cv2.inRange(imgHsv,lower,upper)\n",
    "    result = cv2.bitwise_and(img,img, mask = mask)\n",
    "\n",
    "    mask = cv2.cvtColor(mask, cv2.COLOR_GRAY2BGR)\n",
    "    hStack = np.hstack([img,mask,result])\n",
    "    #cv2.imshow('Original', img)\n",
    "    #cv2.imshow('HSV Color Space', imgHsv)\n",
    "    #cv2.imshow('Mask', mask)\n",
    "   #cv2.imshow('Result', result)\n",
    "    cv2.imshow('Horizontal Stacking', hStack)\n",
    "    if cv2.waitKey(1) & 0xFF == ord('q'):\n",
    "        break\n",
    "\n",
    "cap.release()\n",
    "cv2.destroyAllWindows()"
   ]
  },
  {
   "cell_type": "code",
   "execution_count": null,
   "id": "7536553d",
   "metadata": {},
   "outputs": [],
   "source": []
  }
 ],
 "metadata": {
  "kernelspec": {
   "display_name": "Python 3 (ipykernel)",
   "language": "python",
   "name": "python3"
  },
  "language_info": {
   "codemirror_mode": {
    "name": "ipython",
    "version": 3
   },
   "file_extension": ".py",
   "mimetype": "text/x-python",
   "name": "python",
   "nbconvert_exporter": "python",
   "pygments_lexer": "ipython3",
   "version": "3.9.12"
  },
  "varInspector": {
   "cols": {
    "lenName": 16,
    "lenType": 16,
    "lenVar": 40
   },
   "kernels_config": {
    "python": {
     "delete_cmd_postfix": "",
     "delete_cmd_prefix": "del ",
     "library": "var_list.py",
     "varRefreshCmd": "print(var_dic_list())"
    },
    "r": {
     "delete_cmd_postfix": ") ",
     "delete_cmd_prefix": "rm(",
     "library": "var_list.r",
     "varRefreshCmd": "cat(var_dic_list()) "
    }
   },
   "types_to_exclude": [
    "module",
    "function",
    "builtin_function_or_method",
    "instance",
    "_Feature"
   ],
   "window_display": false
  }
 },
 "nbformat": 4,
 "nbformat_minor": 5
}
