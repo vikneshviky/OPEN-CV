{
 "cells": [
  {
   "cell_type": "code",
   "execution_count": null,
   "id": "a6a5a69c",
   "metadata": {},
   "outputs": [],
   "source": [
    "import cv2 as cv"
   ]
  },
  {
   "cell_type": "markdown",
   "id": "456849ff",
   "metadata": {},
   "source": [
    "\n",
    "# Insert pic"
   ]
  },
  {
   "cell_type": "code",
   "execution_count": null,
   "id": "e1b393be",
   "metadata": {},
   "outputs": [],
   "source": [
    "img = cv.imread('photos/chevy.jpg')\n",
    "cv.imshow('CAR1', img)\n",
    "cv.waitKey(0)"
   ]
  },
  {
   "cell_type": "code",
   "execution_count": null,
   "id": "4b790433",
   "metadata": {},
   "outputs": [],
   "source": [
    "#for larger version\n",
    "#if the image had higer pixel and view beyond desktop change dimension and resize\n",
    "img2 = cv.imread('photos/carlarge.jpg')\n",
    "dim = (200,300) # W x H\n",
    "resize = cv.resize(img2,dim)\n",
    "cv.imshow('car2',resize)\n",
    "cv.waitKey(0)#output will stay ON for infinite time period"
   ]
  },
  {
   "cell_type": "markdown",
   "id": "2c9a9841",
   "metadata": {},
   "source": [
    "# Insert Video"
   ]
  },
  {
   "cell_type": "code",
   "execution_count": null,
   "id": "4815232a",
   "metadata": {},
   "outputs": [],
   "source": [
    "#to show video\n",
    "# video is a squence of images, so we are using while loop to go through each frame one by one\n",
    "\n",
    "vid = cv.VideoCapture('videos/vid 1.mp4')\n",
    "while True:\n",
    "    isTrue,frame = vid.read()\n",
    "    cv.imshow('v1',frame)#display each frame\n",
    "    if cv.waitKey(20) & 0xFF==ord('d'): #if d is pressed then break out of the loop\n",
    "        break\n",
    "vid.release()\n",
    "cv.destroyAllWindows()\n",
    "    "
   ]
  },
  {
   "cell_type": "markdown",
   "id": "802d50b4",
   "metadata": {},
   "source": [
    "# For webcam"
   ]
  },
  {
   "cell_type": "code",
   "execution_count": null,
   "id": "ea9aed60",
   "metadata": {},
   "outputs": [],
   "source": [
    "web = cv.VideoCapture(0)\n",
    "web.set(3,640)#ID,W\n",
    "web.set(4,480)#ID,H\n",
    "web.set(10,100)#ID,Brightness\n",
    "while True:\n",
    "    isTrue,frame = web.read()\n",
    "    cv.imshow('v1',frame)#display each frame\n",
    "    if cv.waitKey(1) & 0xFF==ord('d'): #0xff is for taking keybord input/if d is pressed then break out of the loop\n",
    "        break\n",
    "cv.destroyAllWindows()"
   ]
  },
  {
   "cell_type": "code",
   "execution_count": null,
   "id": "55dc645d",
   "metadata": {},
   "outputs": [],
   "source": []
  }
 ],
 "metadata": {
  "kernelspec": {
   "display_name": "Python 3 (ipykernel)",
   "language": "python",
   "name": "python3"
  },
  "language_info": {
   "codemirror_mode": {
    "name": "ipython",
    "version": 3
   },
   "file_extension": ".py",
   "mimetype": "text/x-python",
   "name": "python",
   "nbconvert_exporter": "python",
   "pygments_lexer": "ipython3",
   "version": "3.9.12"
  },
  "varInspector": {
   "cols": {
    "lenName": 16,
    "lenType": 16,
    "lenVar": 40
   },
   "kernels_config": {
    "python": {
     "delete_cmd_postfix": "",
     "delete_cmd_prefix": "del ",
     "library": "var_list.py",
     "varRefreshCmd": "print(var_dic_list())"
    },
    "r": {
     "delete_cmd_postfix": ") ",
     "delete_cmd_prefix": "rm(",
     "library": "var_list.r",
     "varRefreshCmd": "cat(var_dic_list()) "
    }
   },
   "types_to_exclude": [
    "module",
    "function",
    "builtin_function_or_method",
    "instance",
    "_Feature"
   ],
   "window_display": false
  }
 },
 "nbformat": 4,
 "nbformat_minor": 5
}
