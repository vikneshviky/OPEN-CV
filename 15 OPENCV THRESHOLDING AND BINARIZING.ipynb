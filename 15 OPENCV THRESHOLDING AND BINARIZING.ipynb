{
 "cells": [
  {
   "cell_type": "code",
   "execution_count": 1,
   "id": "e9da24f2",
   "metadata": {},
   "outputs": [],
   "source": [
    "import cv2 as cv"
   ]
  },
  {
   "cell_type": "raw",
   "id": "61853047",
   "metadata": {},
   "source": [
    "#image convert to binary image is thresholding\n",
    "#so the pixels can be either 0 or 255, black or white\n",
    "#in this example we take an image and some particular value, which is thresholding value\n",
    "#and compare each pixel of the image to this threshold value\n",
    "#if the pixel intensity is less than the threshold value then we set the pixel intensity to zero or black\n",
    "#if the pixel intensity is more than the threshold value then we set the pixel intensity to 255 or white"
   ]
  },
  {
   "cell_type": "code",
   "execution_count": 2,
   "id": "2255d8a4",
   "metadata": {},
   "outputs": [],
   "source": [
    "img =  cv.imread('photos/people.jpg')\n",
    "\n",
    "cv.imshow('Image',img)\n",
    "cv.waitKey(0)\n",
    "cv.destroyAllWindows()"
   ]
  },
  {
   "cell_type": "code",
   "execution_count": 3,
   "id": "716bd79e",
   "metadata": {},
   "outputs": [],
   "source": [
    "gray = cv.cvtColor(img,cv.COLOR_BGR2GRAY)\n"
   ]
  },
  {
   "cell_type": "code",
   "execution_count": 11,
   "id": "85768729",
   "metadata": {},
   "outputs": [],
   "source": [
    "#SIMPLE THRESHOLDING\n",
    "thresh_img,thresh = cv.threshold(gray,150,255,cv.THRESH_BINARY)#150- thresh value as of now, 255- max thresh value\n",
    "thresh_img,thresh_inv = cv.threshold(gray,150,255,cv.THRESH_BINARY_INV)\n",
    "cv.imshow('Threshold img',thresh)\n",
    "cv.imshow('Threshold img inverse',thresh_inv)\n",
    "\n",
    "cv.waitKey(0)\n",
    "cv.destroyAllWindows()"
   ]
  },
  {
   "cell_type": "code",
   "execution_count": 14,
   "id": "52f98482",
   "metadata": {},
   "outputs": [],
   "source": [
    "#ADAPTIVE THRESHOLDING\n",
    "#this method is more effective,couz we dont want to manually set the threshold value like simple thresholding\n",
    "adaptive_thresh = cv.adaptiveThreshold(gray,255,cv.ADAPTIVE_THRESH_MEAN_C,\n",
    "                                       cv.THRESH_BINARY,11,3)#11-block size, 3 -tunning\n",
    "adaptive_thresh_inv = cv.adaptiveThreshold(gray,255,cv.ADAPTIVE_THRESH_MEAN_C,\n",
    "                                       cv.THRESH_BINARY_INV,11,3)\n",
    "\n",
    "cv.imshow('adapt threshold',adaptive_thresh)\n",
    "cv.imshow('adapt threshold_inv',adaptive_thresh_inv)\n",
    "cv.waitKey(0)\n",
    "cv.destroyAllWindows()"
   ]
  },
  {
   "cell_type": "code",
   "execution_count": null,
   "id": "dae874a3",
   "metadata": {},
   "outputs": [],
   "source": []
  }
 ],
 "metadata": {
  "kernelspec": {
   "display_name": "Python 3 (ipykernel)",
   "language": "python",
   "name": "python3"
  },
  "language_info": {
   "codemirror_mode": {
    "name": "ipython",
    "version": 3
   },
   "file_extension": ".py",
   "mimetype": "text/x-python",
   "name": "python",
   "nbconvert_exporter": "python",
   "pygments_lexer": "ipython3",
   "version": "3.9.12"
  },
  "varInspector": {
   "cols": {
    "lenName": 16,
    "lenType": 16,
    "lenVar": 40
   },
   "kernels_config": {
    "python": {
     "delete_cmd_postfix": "",
     "delete_cmd_prefix": "del ",
     "library": "var_list.py",
     "varRefreshCmd": "print(var_dic_list())"
    },
    "r": {
     "delete_cmd_postfix": ") ",
     "delete_cmd_prefix": "rm(",
     "library": "var_list.r",
     "varRefreshCmd": "cat(var_dic_list()) "
    }
   },
   "types_to_exclude": [
    "module",
    "function",
    "builtin_function_or_method",
    "instance",
    "_Feature"
   ],
   "window_display": false
  }
 },
 "nbformat": 4,
 "nbformat_minor": 5
}
