{
 "cells": [
  {
   "cell_type": "code",
   "execution_count": null,
   "id": "4a71d4f4",
   "metadata": {},
   "outputs": [],
   "source": [
    "import cv2 as cv\n",
    "import numpy as np"
   ]
  },
  {
   "cell_type": "code",
   "execution_count": null,
   "id": "8994e62e",
   "metadata": {},
   "outputs": [],
   "source": [
    "#1\n",
    "#For web cam- default copy paste\n",
    "frameWidth = 640\n",
    "frameHeight = 480\n",
    "cap = cv.VideoCapture(0)\n",
    "cap.set(3, frameWidth)\n",
    "cap.set(4, frameHeight)\n",
    "cap.set(10,150)\n",
    "\n",
    "#3\n",
    "#get the value from realtime webcam codes by eliminating black color\n",
    "mycolor = [[5,107,0,19,255,255], #orange\n",
    "            [133,56,0,159,156,255],#purple\n",
    "            [57,76,0,100,255,255]]#green\n",
    "\n",
    "#6 get these value from BGR websites\n",
    "mycolorvalues = [[51,153,255],\n",
    "                [255,0,255],\n",
    "                [0,255,0]]\n",
    "\n",
    "#7\n",
    "mypoints = []\n",
    "#2\n",
    "#find the color\n",
    "#get the code from color detection chapter\n",
    "def findcolor(img,mycolor,mycolorvalues):\n",
    "    imgHSV = cv.cvtColor(img, cv.COLOR_BGR2HSV)\n",
    "    count = 0\n",
    "    #4\n",
    "    #to display all color from my color, we using for loop\n",
    "    for color in mycolor:        \n",
    "        lower = np.array(mycolor[0][0:3])\n",
    "        upper =np.array(mycolor[0][3:6])\n",
    "        mask = cv.inRange(imgHSV,lower,upper)\n",
    "        x,y=getcontours(mask)\n",
    "        cv.circle(img_result,(x,y),10,mycolorvalues[count],cv.FILLED)\n",
    "        count += 1\n",
    "#         cv.imshow(str(color[0]),mask)\n",
    "\n",
    "#5\n",
    "def getcontours(img):\n",
    "    contours, hirearchy = cv.findContours(img,cv.RETR_EXTERNAL,cv.CHAIN_APPROX_NONE)#cv.RETR_EXTERNAL is better for contours/outer details\n",
    "    x,y,w,h = 0,0,0,0\n",
    "    for cnt in contours:\n",
    "        area = cv.contourArea(cnt)\n",
    "        if area>500: #500 is pixel\n",
    "            cv.drawContours(img_result,cnt,-1,(255,0,0),3)#-1 is index\n",
    "            perimeter = cv.arcLength(cnt,True)\n",
    "            approx = cv.approxPolyDP(cnt,0.02*perimeter,True)\n",
    "            x,y,w,h = cv.boundingRect(approx)#bounding box\n",
    "    return x+w//2,y\n",
    "#1a\n",
    "while True:\n",
    "    success, img = cap.read()\n",
    "    img_result =  img.copy()\n",
    "    findcolor(img,mycolor,mycolorvalues)\n",
    "    cv.imshow(\"Result\", img_result)\n",
    "    if cv.waitKey(1) & 0xFF == ord('q'):\n",
    "        break"
   ]
  },
  {
   "cell_type": "code",
   "execution_count": null,
   "id": "c41889da",
   "metadata": {},
   "outputs": [],
   "source": []
  }
 ],
 "metadata": {
  "kernelspec": {
   "display_name": "Python 3 (ipykernel)",
   "language": "python",
   "name": "python3"
  },
  "language_info": {
   "codemirror_mode": {
    "name": "ipython",
    "version": 3
   },
   "file_extension": ".py",
   "mimetype": "text/x-python",
   "name": "python",
   "nbconvert_exporter": "python",
   "pygments_lexer": "ipython3",
   "version": "3.9.12"
  },
  "varInspector": {
   "cols": {
    "lenName": 16,
    "lenType": 16,
    "lenVar": 40
   },
   "kernels_config": {
    "python": {
     "delete_cmd_postfix": "",
     "delete_cmd_prefix": "del ",
     "library": "var_list.py",
     "varRefreshCmd": "print(var_dic_list())"
    },
    "r": {
     "delete_cmd_postfix": ") ",
     "delete_cmd_prefix": "rm(",
     "library": "var_list.r",
     "varRefreshCmd": "cat(var_dic_list()) "
    }
   },
   "types_to_exclude": [
    "module",
    "function",
    "builtin_function_or_method",
    "instance",
    "_Feature"
   ],
   "window_display": false
  }
 },
 "nbformat": 4,
 "nbformat_minor": 5
}
