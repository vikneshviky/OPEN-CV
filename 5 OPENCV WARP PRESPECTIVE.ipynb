{
 "cells": [
  {
   "cell_type": "code",
   "execution_count": 18,
   "id": "9da84f64",
   "metadata": {},
   "outputs": [],
   "source": [
    "import cv2 as cv\n",
    "import numpy as np"
   ]
  },
  {
   "cell_type": "code",
   "execution_count": 23,
   "id": "5985c598",
   "metadata": {},
   "outputs": [
    {
     "data": {
      "text/plain": [
       "-1"
      ]
     },
     "execution_count": 23,
     "metadata": {},
     "output_type": "execute_result"
    }
   ],
   "source": [
    "img = cv.imread('photos/cards.jfif')\n",
    "\n",
    "width,height = 250,350 #actual size of a poker card\n",
    "\n",
    "points_1 =np.float32([[432,317],[580,321],[432,533],[579,532]])\n",
    "#view the image in paint and get pixels of 4 sides\n",
    "#[x,y]\n",
    "points_2 =np.float32([[0,0],[width,0],[0,height],[width,height]])\n",
    "matrix = cv.getPerspectiveTransform(points_1,points_2)\n",
    "img_otpt = cv.warpPerspective(img,matrix,(width,height))\n",
    "\n",
    "for x in range(0,4):\n",
    "    cv.circle(img,(int(points_1[x][0]),int(points_1[x][1])),5,(0,255,0),cv.FILLED)\n",
    "# to plot a small circle on the 4 side of the card\n",
    "#as point_1 is float, we've converted into int. orelse there will an error\n",
    "    \n",
    "cv.imshow('CAR',img)\n",
    "cv.imshow('o/p',img_otpt)\n",
    "cv.waitKey(0)"
   ]
  },
  {
   "cell_type": "code",
   "execution_count": null,
   "id": "ebd6480f",
   "metadata": {},
   "outputs": [],
   "source": []
  }
 ],
 "metadata": {
  "kernelspec": {
   "display_name": "Python 3 (ipykernel)",
   "language": "python",
   "name": "python3"
  },
  "language_info": {
   "codemirror_mode": {
    "name": "ipython",
    "version": 3
   },
   "file_extension": ".py",
   "mimetype": "text/x-python",
   "name": "python",
   "nbconvert_exporter": "python",
   "pygments_lexer": "ipython3",
   "version": "3.9.12"
  },
  "varInspector": {
   "cols": {
    "lenName": 16,
    "lenType": 16,
    "lenVar": 40
   },
   "kernels_config": {
    "python": {
     "delete_cmd_postfix": "",
     "delete_cmd_prefix": "del ",
     "library": "var_list.py",
     "varRefreshCmd": "print(var_dic_list())"
    },
    "r": {
     "delete_cmd_postfix": ") ",
     "delete_cmd_prefix": "rm(",
     "library": "var_list.r",
     "varRefreshCmd": "cat(var_dic_list()) "
    }
   },
   "types_to_exclude": [
    "module",
    "function",
    "builtin_function_or_method",
    "instance",
    "_Feature"
   ],
   "window_display": false
  }
 },
 "nbformat": 4,
 "nbformat_minor": 5
}
