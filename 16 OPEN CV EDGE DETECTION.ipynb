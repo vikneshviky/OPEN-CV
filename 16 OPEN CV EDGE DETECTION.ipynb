{
 "cells": [
  {
   "cell_type": "code",
   "execution_count": 4,
   "id": "a6b2eb29",
   "metadata": {},
   "outputs": [],
   "source": [
    "import cv2 as cv\n",
    "import numpy as np"
   ]
  },
  {
   "cell_type": "raw",
   "id": "51ba06de",
   "metadata": {},
   "source": [
    "#as we know about canny edge detection, which is the advanced version\n",
    "#here we code for another 2 methods but not that advanced\n",
    "#Laplacian and Sobel method."
   ]
  },
  {
   "cell_type": "code",
   "execution_count": 5,
   "id": "23be5c09",
   "metadata": {},
   "outputs": [],
   "source": [
    "img =  cv.imread('photos/people.jpg')\n",
    "\n",
    "cv.imshow('Image',img)\n",
    "cv.waitKey(0)\n",
    "cv.destroyAllWindows()"
   ]
  },
  {
   "cell_type": "code",
   "execution_count": 6,
   "id": "756ccbd8",
   "metadata": {},
   "outputs": [],
   "source": [
    "#img to grayscale\n",
    "gray = cv.cvtColor(img,cv.COLOR_BGR2GRAY)\n",
    "cv.imshow('Image_gray',gray)\n",
    "cv.waitKey(0)\n",
    "cv.destroyAllWindows()"
   ]
  },
  {
   "cell_type": "code",
   "execution_count": 7,
   "id": "515bfd01",
   "metadata": {},
   "outputs": [],
   "source": [
    "#lAPLACIAN METHOD\n",
    "lap=cv.Laplacian(gray,cv.CV_64F)\n",
    "lap=np.uint8(np.absolute(lap))\n",
    "cv.imshow('LAP IMG',lap)\n",
    "cv.waitKey(0)\n",
    "cv.destroyAllWindows()"
   ]
  },
  {
   "cell_type": "code",
   "execution_count": 9,
   "id": "95872dae",
   "metadata": {},
   "outputs": [],
   "source": [
    "#SOBEL METHOD\n",
    "soblex = cv.Sobel(gray,cv.CV_64F,1,0)\n",
    "sobley = cv.Sobel(gray,cv.CV_64F,0,1)\n",
    "combine_sobel = cv.bitwise_or(soblex,sobley)\n",
    "\n",
    "cv.imshow('Sobel x',soblex)\n",
    "cv.imshow('Sobel y',sobley)\n",
    "cv.imshow('Sobel Combine',combine_sobel)\n",
    "\n",
    "cv.waitKey(0)\n",
    "cv.destroyAllWindows()"
   ]
  },
  {
   "cell_type": "code",
   "execution_count": 10,
   "id": "a7a21ac9",
   "metadata": {},
   "outputs": [],
   "source": [
    "canny = cv.Canny(gray,150,175)\n",
    "\n",
    "cv.imshow('canny',canny)\n",
    "cv.waitKey(0)\n",
    "cv.destroyAllWindows()"
   ]
  },
  {
   "cell_type": "code",
   "execution_count": null,
   "id": "c561758d",
   "metadata": {},
   "outputs": [],
   "source": []
  }
 ],
 "metadata": {
  "kernelspec": {
   "display_name": "Python 3 (ipykernel)",
   "language": "python",
   "name": "python3"
  },
  "language_info": {
   "codemirror_mode": {
    "name": "ipython",
    "version": 3
   },
   "file_extension": ".py",
   "mimetype": "text/x-python",
   "name": "python",
   "nbconvert_exporter": "python",
   "pygments_lexer": "ipython3",
   "version": "3.9.12"
  },
  "varInspector": {
   "cols": {
    "lenName": 16,
    "lenType": 16,
    "lenVar": 40
   },
   "kernels_config": {
    "python": {
     "delete_cmd_postfix": "",
     "delete_cmd_prefix": "del ",
     "library": "var_list.py",
     "varRefreshCmd": "print(var_dic_list())"
    },
    "r": {
     "delete_cmd_postfix": ") ",
     "delete_cmd_prefix": "rm(",
     "library": "var_list.r",
     "varRefreshCmd": "cat(var_dic_list()) "
    }
   },
   "types_to_exclude": [
    "module",
    "function",
    "builtin_function_or_method",
    "instance",
    "_Feature"
   ],
   "window_display": false
  }
 },
 "nbformat": 4,
 "nbformat_minor": 5
}
