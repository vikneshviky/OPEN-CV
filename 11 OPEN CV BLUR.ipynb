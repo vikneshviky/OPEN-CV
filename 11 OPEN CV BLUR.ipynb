{
 "cells": [
  {
   "cell_type": "code",
   "execution_count": 1,
   "id": "9678631a",
   "metadata": {},
   "outputs": [],
   "source": [
    "import cv2 as cv"
   ]
  },
  {
   "cell_type": "code",
   "execution_count": 10,
   "id": "7ff0a1d3",
   "metadata": {},
   "outputs": [
    {
     "data": {
      "text/plain": [
       "-1"
      ]
     },
     "execution_count": 10,
     "metadata": {},
     "output_type": "execute_result"
    }
   ],
   "source": [
    "#as we know gaussian blur. but in some cases it wont help\n",
    "\n",
    "path = 'photos/people.jpg'\n",
    "img = cv.imread(path)\n",
    "\n",
    "#method 1 - Averaging\n",
    "average = cv.blur(img,(3,3))#3,3 is the kernel size. more kernal size more blur\n",
    "\n",
    "#method 2 - gaussian \n",
    "#it could be more natural compare to averaging\n",
    "gaussian = cv.GaussianBlur(img,(3,3),0)\n",
    "\n",
    "#method 3 - median blur\n",
    "#good for noise reduction\n",
    "#better dont increase the kernal size more than 5\n",
    "median = cv.medianBlur(img,3)\n",
    "\n",
    "#method 4 - Bilateral\n",
    "#will get a smudged image\n",
    "#not very useful\n",
    "bilateral = cv.bilateralFilter(img,10,35,25)\n",
    "\n",
    "cv.imshow('image',img)\n",
    "cv.imshow('average',average)\n",
    "cv.imshow('gaussian',gaussian)\n",
    "cv.imshow('median',median)\n",
    "cv.imshow('bi',bilateral)\n",
    "\n",
    "\n",
    "cv.waitKey(0)"
   ]
  },
  {
   "cell_type": "code",
   "execution_count": null,
   "id": "e730e6c1",
   "metadata": {},
   "outputs": [],
   "source": []
  }
 ],
 "metadata": {
  "kernelspec": {
   "display_name": "Python 3 (ipykernel)",
   "language": "python",
   "name": "python3"
  },
  "language_info": {
   "codemirror_mode": {
    "name": "ipython",
    "version": 3
   },
   "file_extension": ".py",
   "mimetype": "text/x-python",
   "name": "python",
   "nbconvert_exporter": "python",
   "pygments_lexer": "ipython3",
   "version": "3.9.12"
  },
  "varInspector": {
   "cols": {
    "lenName": 16,
    "lenType": 16,
    "lenVar": 40
   },
   "kernels_config": {
    "python": {
     "delete_cmd_postfix": "",
     "delete_cmd_prefix": "del ",
     "library": "var_list.py",
     "varRefreshCmd": "print(var_dic_list())"
    },
    "r": {
     "delete_cmd_postfix": ") ",
     "delete_cmd_prefix": "rm(",
     "library": "var_list.r",
     "varRefreshCmd": "cat(var_dic_list()) "
    }
   },
   "types_to_exclude": [
    "module",
    "function",
    "builtin_function_or_method",
    "instance",
    "_Feature"
   ],
   "window_display": false
  }
 },
 "nbformat": 4,
 "nbformat_minor": 5
}
