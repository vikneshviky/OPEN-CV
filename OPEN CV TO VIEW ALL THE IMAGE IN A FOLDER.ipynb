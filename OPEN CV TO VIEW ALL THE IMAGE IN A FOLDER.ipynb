{
 "cells": [
  {
   "cell_type": "code",
   "execution_count": null,
   "id": "5e2e62f9",
   "metadata": {},
   "outputs": [],
   "source": [
    "import cv2 as cv\n",
    "from imutils import paths"
   ]
  },
  {
   "cell_type": "code",
   "execution_count": null,
   "id": "5d54f352",
   "metadata": {},
   "outputs": [],
   "source": [
    "imagepaths = list(paths.list_images('C:\\\\Users\\\\HP-PC\\\\OPEN CV\\\\photos'))"
   ]
  },
  {
   "cell_type": "code",
   "execution_count": null,
   "id": "417cf772",
   "metadata": {},
   "outputs": [],
   "source": [
    "imagepaths"
   ]
  },
  {
   "cell_type": "code",
   "execution_count": null,
   "id": "0b2ccff7",
   "metadata": {},
   "outputs": [],
   "source": [
    "for i in imagepaths:\n",
    "    img = cv.imread(i)\n",
    "    cv.imshow('Frame',img)\n",
    "    cv.waitKey(0)\n",
    "cv.destroyAllWindows()"
   ]
  },
  {
   "cell_type": "code",
   "execution_count": null,
   "id": "1423ede3",
   "metadata": {},
   "outputs": [],
   "source": []
  }
 ],
 "metadata": {
  "kernelspec": {
   "display_name": "Python 3 (ipykernel)",
   "language": "python",
   "name": "python3"
  },
  "language_info": {
   "codemirror_mode": {
    "name": "ipython",
    "version": 3
   },
   "file_extension": ".py",
   "mimetype": "text/x-python",
   "name": "python",
   "nbconvert_exporter": "python",
   "pygments_lexer": "ipython3",
   "version": "3.9.12"
  },
  "varInspector": {
   "cols": {
    "lenName": 16,
    "lenType": 16,
    "lenVar": 40
   },
   "kernels_config": {
    "python": {
     "delete_cmd_postfix": "",
     "delete_cmd_prefix": "del ",
     "library": "var_list.py",
     "varRefreshCmd": "print(var_dic_list())"
    },
    "r": {
     "delete_cmd_postfix": ") ",
     "delete_cmd_prefix": "rm(",
     "library": "var_list.r",
     "varRefreshCmd": "cat(var_dic_list()) "
    }
   },
   "types_to_exclude": [
    "module",
    "function",
    "builtin_function_or_method",
    "instance",
    "_Feature"
   ],
   "window_display": false
  }
 },
 "nbformat": 4,
 "nbformat_minor": 5
}
