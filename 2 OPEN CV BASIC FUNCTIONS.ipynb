{
 "cells": [
  {
   "cell_type": "code",
   "execution_count": 11,
   "id": "a452ba9d",
   "metadata": {},
   "outputs": [],
   "source": [
    "import cv2 as cv\n",
    "import numpy as np"
   ]
  },
  {
   "cell_type": "code",
   "execution_count": 14,
   "id": "a508c030",
   "metadata": {},
   "outputs": [
    {
     "data": {
      "text/plain": [
       "-1"
      ]
     },
     "execution_count": 14,
     "metadata": {},
     "output_type": "execute_result"
    }
   ],
   "source": [
    "img = cv.imread('photos/corv.webp')\n",
    "\n",
    "kernal = np.ones((5,5),np.uint8)#we need all values in one/size is 5,5/type is 8bit:0-255\n",
    "\n",
    "img_gray = cv.cvtColor(img,cv.COLOR_BGR2GRAY)\n",
    "img_blr = cv.GaussianBlur(img_gray,(7,7),0)#7,7 is kernal size to add blur.it has to be odd num, Sigma X = 0\n",
    "img_canny = cv.Canny(img,100,100)#canny edge detection\n",
    "#100 is threshold. it can changed according to situation\n",
    "img_dialation = cv.dilate(img_canny,kernal,iterations = 1)#if there is any loose edge or thickness then we dialate to add more pixels\n",
    "#iteration is thickness\n",
    "img_erode = cv.erode(img_dialation,kernal,iterations=1)\n",
    "#erode is to reduce the pixel, white shade or brighterside\n",
    "cv.imshow('Gray Image',img_gray)\n",
    "cv.imshow('Blur Image',img_blr)\n",
    "cv.imshow('Canny Image',img_canny)\n",
    "cv.imshow(\"Dialation Image\",img_dialation)\n",
    "cv.imshow('Erode image', img_erode)\n",
    "\n",
    "cv.waitKey(0)"
   ]
  },
  {
   "cell_type": "code",
   "execution_count": null,
   "id": "14c5dbea",
   "metadata": {},
   "outputs": [],
   "source": [
    " "
   ]
  }
 ],
 "metadata": {
  "kernelspec": {
   "display_name": "Python 3 (ipykernel)",
   "language": "python",
   "name": "python3"
  },
  "language_info": {
   "codemirror_mode": {
    "name": "ipython",
    "version": 3
   },
   "file_extension": ".py",
   "mimetype": "text/x-python",
   "name": "python",
   "nbconvert_exporter": "python",
   "pygments_lexer": "ipython3",
   "version": "3.9.12"
  },
  "varInspector": {
   "cols": {
    "lenName": 16,
    "lenType": 16,
    "lenVar": 40
   },
   "kernels_config": {
    "python": {
     "delete_cmd_postfix": "",
     "delete_cmd_prefix": "del ",
     "library": "var_list.py",
     "varRefreshCmd": "print(var_dic_list())"
    },
    "r": {
     "delete_cmd_postfix": ") ",
     "delete_cmd_prefix": "rm(",
     "library": "var_list.r",
     "varRefreshCmd": "cat(var_dic_list()) "
    }
   },
   "types_to_exclude": [
    "module",
    "function",
    "builtin_function_or_method",
    "instance",
    "_Feature"
   ],
   "window_display": false
  }
 },
 "nbformat": 4,
 "nbformat_minor": 5
}
